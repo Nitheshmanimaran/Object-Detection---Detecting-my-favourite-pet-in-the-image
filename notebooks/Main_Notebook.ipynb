{
 "cells": [
  {
   "attachments": {},
   "cell_type": "markdown",
   "metadata": {},
   "source": [
    "# Author : Nithesh Kumar Manimaran\n",
    "# Date   : 13-12-2022\n",
    "# Title  : Project 1 - Identify your favourite Pet"
   ]
  },
  {
   "cell_type": "markdown",
   "metadata": {},
   "source": [
    "# Objective :\n",
    "Check if a picture contains my favorite pet or not"
   ]
  },
  {
   "cell_type": "markdown",
   "metadata": {},
   "source": [
    "# Mission Statement :\n",
    "* Create our own image dataset\n",
    "* Define Classification Strategy\n",
    "* Compare a custom sklearn model with a pre-trained Tf - hub model\n"
   ]
  },
  {
   "attachments": {},
   "cell_type": "markdown",
   "metadata": {},
   "source": [
    "# References\n",
    "* https://machinelearningmastery.com/how-to-develop-a-convolutional-neural-network-to-classify-photos-of-dogs-and-cats/\n",
    "* https://www.kaggle.com/code/paperboiii/one-class-classification-for-images\n",
    "* https://github.com/udacity/dog-project/blob/master/dog_app.ipynb"
   ]
  },
  {
   "attachments": {},
   "cell_type": "markdown",
   "metadata": {},
   "source": [
    "# Introduction"
   ]
  },
  {
   "attachments": {},
   "cell_type": "markdown",
   "metadata": {},
   "source": [
    "For this project to identify my favourite pet, I have selected 'Dog' as my favourite pet. \n",
    "\n",
    "* For the dataset I will try to download it from fiftyone.zoo. So, basically the idea is create two classes. Class 1 - Dog having images of Dog and Class 2 - Not Dog having images of other animals like cat,bird,hamster and fish. So, the idea is to train a model to classify the images as Dog or Not Dog.\n",
    "\n",
    "* For the baseline model, I will use Sequential model from Keras. I will use the following layers in the model\n",
    "    * Conv2D\n",
    "    * MaxPooling2D\n",
    "    * Flatten\n",
    "    * Dense\n",
    "\n",
    "The strategy for the model is to use the following steps\n",
    "* Load the dataset\n",
    "* Preprocess the dataset\n",
    "* Create the model\n",
    "* Train the model\n",
    "* Evaluate the model\n",
    "* Compare the model with the pre-trained model\n",
    "\n",
    "\n"
   ]
  },
  {
   "attachments": {},
   "cell_type": "markdown",
   "metadata": {},
   "source": [
    "# Creating our own image dataset"
   ]
  },
  {
   "attachments": {},
   "cell_type": "markdown",
   "metadata": {},
   "source": [
    "DOG"
   ]
  },
  {
   "cell_type": "code",
   "execution_count": 25,
   "metadata": {},
   "outputs": [
    {
     "name": "stdout",
     "output_type": "stream",
     "text": [
      "Downloading split 'validation' to 'C:\\Users\\nithe\\fiftyone\\open-images-v6\\validation' if necessary\n",
      "Only found 1586 (<5000) samples matching your requirements\n",
      "Necessary images already downloaded\n",
      "Existing download of split 'validation' is sufficient\n",
      "Loading existing dataset 'dog_13/12'. To reload from disk, either delete the existing dataset or provide a custom `dataset_name` to use\n"
     ]
    }
   ],
   "source": [
    "import fiftyone.zoo as foz\n",
    "dataset = foz.load_zoo_dataset(\n",
    "    \"open-images-v6\", \n",
    "    \"validation\", \n",
    "    label_types=[\"detections\"], \n",
    "    classes = [\"Dog\"],\n",
    "    max_samples=5000,\n",
    "    seed=51,\n",
    "    shuffle=True,\n",
    "    dataset_name=\"dog_13/12\"\n",
    ")"
   ]
  },
  {
   "cell_type": "code",
   "execution_count": 26,
   "metadata": {},
   "outputs": [
    {
     "name": "stdout",
     "output_type": "stream",
     "text": [
      "Directory 'D:/EPITA/Computer Vision/Project_1/data/train/dog' already exists; export will be merged with existing files\n",
      " 100% |███████████████| 1586/1586 [15.8s elapsed, 0s remaining, 105.2 samples/s]      \n"
     ]
    }
   ],
   "source": [
    "import fiftyone as fo\n",
    "dataset.export(\n",
    "    export_dir=\"D:/EPITA/Computer Vision/Project_1/data/train/dog\",\n",
    "    dataset_type=fo.types.COCODetectionDataset,\n",
    "    label_field=\"detections\",\n",
    "    \n",
    ")"
   ]
  },
  {
   "cell_type": "code",
   "execution_count": 27,
   "metadata": {},
   "outputs": [
    {
     "name": "stdout",
     "output_type": "stream",
     "text": [
      "1586\n",
      "317.20000000000005\n"
     ]
    }
   ],
   "source": [
    "# No of images in the train - dog directory\n",
    "import os\n",
    "print(len(os.listdir(\"D:/EPITA/Computer Vision/Project_1/data/train/dog/data\")))\n",
    "\n",
    "# What is 20% of 1586\n",
    "print(1586*0.2)"
   ]
  },
  {
   "cell_type": "code",
   "execution_count": 28,
   "metadata": {},
   "outputs": [],
   "source": [
    "# Moving 317 images to the test - dog directory\n",
    "import shutil\n",
    "import os\n",
    "import random\n",
    "source = \"D:/EPITA/Computer Vision/Project_1/data/train/dog/data\"\n",
    "destination = \"D:/EPITA/Computer Vision/Project_1/data/test/dog/\"\n",
    "\n",
    "for i in range(317):\n",
    "    image = random.choice(os.listdir(source))\n",
    "    shutil.move(os.path.join(source, image), destination)"
   ]
  },
  {
   "cell_type": "code",
   "execution_count": 29,
   "metadata": {},
   "outputs": [
    {
     "name": "stdout",
     "output_type": "stream",
     "text": [
      "317\n",
      "1269\n"
     ]
    }
   ],
   "source": [
    "# No of images in the test - dog directory\n",
    "print(len(os.listdir(\"D:/EPITA/Computer Vision/Project_1/data/test/dog\")))\n",
    "# No of images in the train - dog directory\n",
    "print(len(os.listdir(\"D:/EPITA/Computer Vision/Project_1/data/train/dog/data\")))"
   ]
  },
  {
   "attachments": {},
   "cell_type": "markdown",
   "metadata": {},
   "source": [
    "NOT DOG"
   ]
  },
  {
   "cell_type": "code",
   "execution_count": 30,
   "metadata": {},
   "outputs": [
    {
     "name": "stdout",
     "output_type": "stream",
     "text": [
      "Downloading split 'validation' to 'C:\\Users\\nithe\\fiftyone\\open-images-v6\\validation' if necessary\n",
      "Only found 1323 (<5000) samples matching your requirements\n",
      "Necessary images already downloaded\n",
      "Existing download of split 'validation' is sufficient\n",
      "Loading existing dataset 'cat_bird_hamster_fish_13/12'. To reload from disk, either delete the existing dataset or provide a custom `dataset_name` to use\n"
     ]
    }
   ],
   "source": [
    "import fiftyone.zoo as foz\n",
    "dataset = foz.load_zoo_dataset(\n",
    "    \"open-images-v6\", \n",
    "    \"validation\", \n",
    "    label_types=[\"detections\"], \n",
    "    classes = [\"Cat\", \"Bird\", \"Hamster\",\"Fish\"],\n",
    "    max_samples=5000,\n",
    "    seed=51,\n",
    "    shuffle=True,\n",
    "    dataset_name=\"cat_bird_hamster_fish_13/12\"\n",
    ")"
   ]
  },
  {
   "cell_type": "code",
   "execution_count": 31,
   "metadata": {},
   "outputs": [
    {
     "name": "stdout",
     "output_type": "stream",
     "text": [
      "Directory 'D:/EPITA/Computer Vision/Project_1/data/train/not_dog' already exists; export will be merged with existing files\n",
      " 100% |███████████████| 1323/1323 [12.6s elapsed, 0s remaining, 94.6 samples/s]       \n"
     ]
    }
   ],
   "source": [
    "import fiftyone as fo\n",
    "dataset.export(\n",
    "    export_dir=\"D:/EPITA/Computer Vision/Project_1/data/train/not_dog\",\n",
    "    dataset_type=fo.types.COCODetectionDataset,\n",
    "    label_field=\"detections\",\n",
    ")"
   ]
  },
  {
   "cell_type": "code",
   "execution_count": 32,
   "metadata": {},
   "outputs": [
    {
     "name": "stdout",
     "output_type": "stream",
     "text": [
      "1323\n",
      "264.6\n"
     ]
    }
   ],
   "source": [
    "# No of images in the train - dog directory\n",
    "import os\n",
    "print(len(os.listdir(\"D:/EPITA/Computer Vision/Project_1/data/train/not_dog/data\")))\n",
    "\n",
    "# What is 20% of 1323\n",
    "print(1323*0.2)"
   ]
  },
  {
   "cell_type": "code",
   "execution_count": 33,
   "metadata": {},
   "outputs": [],
   "source": [
    "# Moving 264 images to the test - dog directory\n",
    "import shutil\n",
    "import os\n",
    "import random\n",
    "source = \"D:/EPITA/Computer Vision/Project_1/data/train/not_dog/data\"\n",
    "destination = \"D:/EPITA/Computer Vision/Project_1/data/test/not_dog\"\n",
    "\n",
    "for i in range(264):\n",
    "    image = random.choice(os.listdir(source))\n",
    "    shutil.move(os.path.join(source, image), destination)"
   ]
  },
  {
   "cell_type": "code",
   "execution_count": 34,
   "metadata": {},
   "outputs": [
    {
     "name": "stdout",
     "output_type": "stream",
     "text": [
      "264\n",
      "1059\n"
     ]
    }
   ],
   "source": [
    "# No of images in the test - dog directory\n",
    "print(len(os.listdir(\"D:/EPITA/Computer Vision/Project_1/data/test/not_dog/\")))\n",
    "# No of images in the train - dog directory\n",
    "print(len(os.listdir(\"D:/EPITA/Computer Vision/Project_1/data/train/not_dog/data\")))"
   ]
  },
  {
   "attachments": {},
   "cell_type": "markdown",
   "metadata": {},
   "source": [
    "# Preprocessing"
   ]
  },
  {
   "cell_type": "code",
   "execution_count": 35,
   "metadata": {},
   "outputs": [],
   "source": [
    "os.remove('D:/EPITA/Computer Vision/Project_1/data/train/dog/labels.json')\n",
    "os.remove('D:/EPITA/Computer Vision/Project_1/data/train/not_dog/labels.json')"
   ]
  },
  {
   "cell_type": "code",
   "execution_count": 36,
   "metadata": {},
   "outputs": [],
   "source": [
    "import os\n",
    "import shutil\n",
    "\n",
    "source = 'D:/EPITA/Computer Vision/Project_1/data/train/dog/data'\n",
    "destination = 'D:/EPITA/Computer Vision/Project_1/data/train/dog/'\n",
    "\n",
    "# gather all files\n",
    "allfiles = os.listdir(source)\n",
    "\n",
    "# iterate on all files to move them to destination folder\n",
    "for f in allfiles:\n",
    "\tsrc_path = os.path.join(source, f)\n",
    "\tdst_path = os.path.join(destination, f)\n",
    "\tshutil.move(src_path, dst_path)\n"
   ]
  },
  {
   "cell_type": "code",
   "execution_count": 37,
   "metadata": {},
   "outputs": [],
   "source": [
    "import os\n",
    "import shutil\n",
    "\n",
    "source = 'D:/EPITA/Computer Vision/Project_1/data/train/not_dog/data'\n",
    "destination = 'D:/EPITA/Computer Vision/Project_1/data/train/not_dog'\n",
    "\n",
    "# gather all files\n",
    "allfiles = os.listdir(source)\n",
    "\n",
    "# iterate on all files to move them to destination folder\n",
    "for f in allfiles:\n",
    "\tsrc_path = os.path.join(source, f)\n",
    "\tdst_path = os.path.join(destination, f)\n",
    "\tshutil.move(src_path, dst_path)"
   ]
  },
  {
   "attachments": {},
   "cell_type": "markdown",
   "metadata": {},
   "source": [
    "Removing Empty Directories"
   ]
  },
  {
   "cell_type": "code",
   "execution_count": 38,
   "metadata": {},
   "outputs": [],
   "source": [
    "os.rmdir('D:/EPITA/Computer Vision/Project_1/data/train/dog/data')\n",
    "os.rmdir('D:/EPITA/Computer Vision/Project_1/data/train/not_dog/data')"
   ]
  },
  {
   "attachments": {},
   "cell_type": "markdown",
   "metadata": {},
   "source": [
    "Data-generators"
   ]
  },
  {
   "cell_type": "code",
   "execution_count": 39,
   "metadata": {},
   "outputs": [],
   "source": [
    "from keras.preprocessing.image import ImageDataGenerator\n",
    "train_datagenerator = ImageDataGenerator(rescale=1./255, width_shift_range=0.1, height_shift_range=0.1, horizontal_flip=True)\n",
    "test_datagenerator = ImageDataGenerator(rescale=1./255)"
   ]
  },
  {
   "cell_type": "code",
   "execution_count": 40,
   "metadata": {},
   "outputs": [
    {
     "name": "stdout",
     "output_type": "stream",
     "text": [
      "Found 2328 images belonging to 2 classes.\n",
      "Found 581 images belonging to 2 classes.\n"
     ]
    }
   ],
   "source": [
    "train_iterator = train_datagenerator.flow_from_directory('D:/EPITA/Computer Vision/Project_1/data/train/', class_mode='binary', batch_size=64, target_size=(200, 200))\n",
    "test_iterator = test_datagenerator.flow_from_directory('D:/EPITA/Computer Vision/Project_1/data/test/', class_mode='binary', batch_size=64, target_size=(200, 200))"
   ]
  },
  {
   "attachments": {},
   "cell_type": "markdown",
   "metadata": {},
   "source": [
    "# MODELIZATION"
   ]
  },
  {
   "attachments": {},
   "cell_type": "markdown",
   "metadata": {},
   "source": [
    "Baseline Model"
   ]
  },
  {
   "cell_type": "code",
   "execution_count": 41,
   "metadata": {},
   "outputs": [],
   "source": [
    "import sys\n",
    "from matplotlib import pyplot\n",
    "from keras.utils import to_categorical\n",
    "from keras.models import Sequential\n",
    "from keras.layers import Conv2D\n",
    "from keras.layers import MaxPooling2D\n",
    "from keras.layers import Dense\n",
    "from keras.layers import Flatten\n",
    "from keras.optimizers import SGD"
   ]
  },
  {
   "cell_type": "code",
   "execution_count": 42,
   "metadata": {},
   "outputs": [],
   "source": [
    "# CNN model\n",
    "\n",
    "def define_model():\n",
    "    model = Sequential()\n",
    "    model.add(Conv2D(32, (3, 3), activation='relu', kernel_initializer='he_uniform', padding='same', input_shape=(200, 200, 3)))\n",
    "    model.add(MaxPooling2D((2, 2)))\n",
    "    model.add(Conv2D(64, (3, 3), activation='relu', kernel_initializer='he_uniform', padding='same'))\n",
    "    model.add(MaxPooling2D((2, 2)))\n",
    "    model.add(Conv2D(128, (3, 3), activation='relu', kernel_initializer='he_uniform', padding='same'))\n",
    "    model.add(MaxPooling2D((2, 2)))\n",
    "    model.add(Flatten())\n",
    "    model.add(Dense(128, activation='relu', kernel_initializer='he_uniform'))\n",
    "    model.add(Dense(1, activation='sigmoid'))\n",
    "    optimizer = SGD(lr=0.001, momentum=0.9)\n",
    "    model.compile(optimizer=optimizer, loss='binary_crossentropy', metrics=['accuracy'])\n",
    "    return model"
   ]
  },
  {
   "cell_type": "code",
   "execution_count": 43,
   "metadata": {},
   "outputs": [],
   "source": [
    "import warnings\n",
    "warnings.filterwarnings(\"ignore\")\n",
    "model = define_model()"
   ]
  },
  {
   "cell_type": "code",
   "execution_count": 44,
   "metadata": {},
   "outputs": [
    {
     "name": "stdout",
     "output_type": "stream",
     "text": [
      "Model: \"sequential\"\n",
      "_________________________________________________________________\n",
      " Layer (type)                Output Shape              Param #   \n",
      "=================================================================\n",
      " conv2d (Conv2D)             (None, 200, 200, 32)      896       \n",
      "                                                                 \n",
      " max_pooling2d (MaxPooling2D  (None, 100, 100, 32)     0         \n",
      " )                                                               \n",
      "                                                                 \n",
      " conv2d_1 (Conv2D)           (None, 100, 100, 64)      18496     \n",
      "                                                                 \n",
      " max_pooling2d_1 (MaxPooling  (None, 50, 50, 64)       0         \n",
      " 2D)                                                             \n",
      "                                                                 \n",
      " conv2d_2 (Conv2D)           (None, 50, 50, 128)       73856     \n",
      "                                                                 \n",
      " max_pooling2d_2 (MaxPooling  (None, 25, 25, 128)      0         \n",
      " 2D)                                                             \n",
      "                                                                 \n",
      " flatten (Flatten)           (None, 80000)             0         \n",
      "                                                                 \n",
      " dense (Dense)               (None, 128)               10240128  \n",
      "                                                                 \n",
      " dense_1 (Dense)             (None, 1)                 129       \n",
      "                                                                 \n",
      "=================================================================\n",
      "Total params: 10,333,505\n",
      "Trainable params: 10,333,505\n",
      "Non-trainable params: 0\n",
      "_________________________________________________________________\n"
     ]
    }
   ],
   "source": [
    "model.summary()"
   ]
  },
  {
   "cell_type": "code",
   "execution_count": 45,
   "metadata": {},
   "outputs": [
    {
     "name": "stdout",
     "output_type": "stream",
     "text": [
      "Epoch 1/10\n",
      "37/37 [==============================] - 225s 6s/step - loss: 0.7140 - accuracy: 0.5301 - val_loss: 0.6727 - val_accuracy: 0.5886\n",
      "Epoch 2/10\n",
      "37/37 [==============================] - 176s 5s/step - loss: 0.6556 - accuracy: 0.6130 - val_loss: 0.6895 - val_accuracy: 0.5146\n",
      "Epoch 3/10\n",
      "37/37 [==============================] - 168s 5s/step - loss: 0.6437 - accuracy: 0.6186 - val_loss: 0.6263 - val_accuracy: 0.6437\n",
      "Epoch 4/10\n",
      "37/37 [==============================] - 162s 4s/step - loss: 0.6367 - accuracy: 0.6375 - val_loss: 0.6191 - val_accuracy: 0.6764\n",
      "Epoch 5/10\n",
      "37/37 [==============================] - 169s 5s/step - loss: 0.6286 - accuracy: 0.6469 - val_loss: 0.6144 - val_accuracy: 0.6799\n",
      "Epoch 6/10\n",
      "37/37 [==============================] - 155s 4s/step - loss: 0.6273 - accuracy: 0.6503 - val_loss: 0.6282 - val_accuracy: 0.6282\n",
      "Epoch 7/10\n",
      "37/37 [==============================] - 154s 4s/step - loss: 0.6173 - accuracy: 0.6615 - val_loss: 0.6059 - val_accuracy: 0.6420\n",
      "Epoch 8/10\n",
      "37/37 [==============================] - 151s 4s/step - loss: 0.6211 - accuracy: 0.6508 - val_loss: 0.5954 - val_accuracy: 0.7057\n",
      "Epoch 9/10\n",
      "37/37 [==============================] - 146s 4s/step - loss: 0.6046 - accuracy: 0.6808 - val_loss: 0.5900 - val_accuracy: 0.7091\n",
      "Epoch 10/10\n",
      "37/37 [==============================] - 142s 4s/step - loss: 0.5962 - accuracy: 0.6877 - val_loss: 0.5778 - val_accuracy: 0.7177\n"
     ]
    }
   ],
   "source": [
    "history = model.fit(train_iterator, steps_per_epoch=len(train_iterator), epochs=10, validation_data=test_iterator, validation_steps=len(test_iterator), verbose=1)"
   ]
  },
  {
   "cell_type": "code",
   "execution_count": 46,
   "metadata": {},
   "outputs": [],
   "source": [
    "model.save('D:/EPITA/Computer Vision/Project_1/models/version_1_model.h5')"
   ]
  },
  {
   "cell_type": "code",
   "execution_count": 47,
   "metadata": {},
   "outputs": [
    {
     "data": {
      "image/png": "[encoded data removed]",
      "text/plain": [
       "<Figure size 640x480 with 1 Axes>"
      ]
     },
     "metadata": {},
     "output_type": "display_data"
    },
    {
     "data": {
      "image/png": "[encoded data removed]",
      "text/plain": [
       "<Figure size 640x480 with 1 Axes>"
      ]
     },
     "metadata": {},
     "output_type": "display_data"
    }
   ],
   "source": [
    "# Plotting the learning curves using model.history from model version_1_model.h5\n",
    "pyplot.title('Cross Entropy Loss')\n",
    "pyplot.plot(history.history['loss'], color='blue', label='train')\n",
    "pyplot.plot(history.history['val_loss'], color='orange', label='test')\n",
    "pyplot.legend()\n",
    "pyplot.show()\n",
    "\n",
    "pyplot.title('Classification Accuracy')\n",
    "pyplot.plot(history.history['accuracy'], color='blue', label='train')\n",
    "pyplot.plot(history.history['val_accuracy'], color='orange', label='test')\n",
    "pyplot.legend()\n",
    "pyplot.show()"
   ]
  },
  {
   "attachments": {},
   "cell_type": "markdown",
   "metadata": {},
   "source": [
    "From the above results, we can see that we got an accuracy of 0.68 and val_accuracy of 0.71 which is not pretty good. So, we will try to improve the model by using the following techniques"
   ]
  },
  {
   "attachments": {},
   "cell_type": "markdown",
   "metadata": {},
   "source": [
    "# Performances Comparison"
   ]
  },
  {
   "attachments": {},
   "cell_type": "markdown",
   "metadata": {},
   "source": [
    "# Improving performances with Transfer Learning"
   ]
  },
  {
   "cell_type": "code",
   "execution_count": 10,
   "metadata": {},
   "outputs": [],
   "source": [
    "# VGG-19 model\n",
    "from keras.applications.vgg19 import VGG19\n",
    "from keras.models import Model\n",
    "from keras.layers import Dense\n",
    "from keras.layers import Flatten\n",
    "from keras.optimizers import SGD\n",
    "from keras.preprocessing.image import ImageDataGenerator\n",
    "import warnings\n",
    "warnings.filterwarnings(\"ignore\")\n",
    "\n",
    "model = VGG19(include_top=False, input_shape=(200, 200, 3))\n",
    "for layer in model.layers:\n",
    "    layer.trainable = False\n",
    "flat1 = Flatten()(model.layers[-1].output)\n",
    "class1 = Dense(128, activation='relu', kernel_initializer='he_uniform')(flat1)\n",
    "output = Dense(1, activation='sigmoid')(class1)\n",
    "model = Model(inputs=model.inputs, outputs=output)\n",
    "optimizer = SGD(lr=0.001, momentum=0.9)\n",
    "model.compile(optimizer=optimizer, loss='binary_crossentropy', metrics=['accuracy'])"
   ]
  },
  {
   "cell_type": "code",
   "execution_count": 11,
   "metadata": {},
   "outputs": [
    {
     "name": "stdout",
     "output_type": "stream",
     "text": [
      "Model: \"model_3\"\n",
      "_________________________________________________________________\n",
      " Layer (type)                Output Shape              Param #   \n",
      "=================================================================\n",
      " input_7 (InputLayer)        [(None, 200, 200, 3)]     0         \n",
      "                                                                 \n",
      " block1_conv1 (Conv2D)       (None, 200, 200, 64)      1792      \n",
      "                                                                 \n",
      " block1_conv2 (Conv2D)       (None, 200, 200, 64)      36928     \n",
      "                                                                 \n",
      " block1_pool (MaxPooling2D)  (None, 100, 100, 64)      0         \n",
      "                                                                 \n",
      " block2_conv1 (Conv2D)       (None, 100, 100, 128)     73856     \n",
      "                                                                 \n",
      " block2_conv2 (Conv2D)       (None, 100, 100, 128)     147584    \n",
      "                                                                 \n",
      " block2_pool (MaxPooling2D)  (None, 50, 50, 128)       0         \n",
      "                                                                 \n",
      " block3_conv1 (Conv2D)       (None, 50, 50, 256)       295168    \n",
      "                                                                 \n",
      " block3_conv2 (Conv2D)       (None, 50, 50, 256)       590080    \n",
      "                                                                 \n",
      " block3_conv3 (Conv2D)       (None, 50, 50, 256)       590080    \n",
      "                                                                 \n",
      " block3_conv4 (Conv2D)       (None, 50, 50, 256)       590080    \n",
      "                                                                 \n",
      " block3_pool (MaxPooling2D)  (None, 25, 25, 256)       0         \n",
      "                                                                 \n",
      " block4_conv1 (Conv2D)       (None, 25, 25, 512)       1180160   \n",
      "                                                                 \n",
      " block4_conv2 (Conv2D)       (None, 25, 25, 512)       2359808   \n",
      "                                                                 \n",
      " block4_conv3 (Conv2D)       (None, 25, 25, 512)       2359808   \n",
      "                                                                 \n",
      " block4_conv4 (Conv2D)       (None, 25, 25, 512)       2359808   \n",
      "                                                                 \n",
      " block4_pool (MaxPooling2D)  (None, 12, 12, 512)       0         \n",
      "                                                                 \n",
      " block5_conv1 (Conv2D)       (None, 12, 12, 512)       2359808   \n",
      "                                                                 \n",
      " block5_conv2 (Conv2D)       (None, 12, 12, 512)       2359808   \n",
      "                                                                 \n",
      " block5_conv3 (Conv2D)       (None, 12, 12, 512)       2359808   \n",
      "                                                                 \n",
      " block5_conv4 (Conv2D)       (None, 12, 12, 512)       2359808   \n",
      "                                                                 \n",
      " block5_pool (MaxPooling2D)  (None, 6, 6, 512)         0         \n",
      "                                                                 \n",
      " flatten_3 (Flatten)         (None, 18432)             0         \n",
      "                                                                 \n",
      " dense_6 (Dense)             (None, 128)               2359424   \n",
      "                                                                 \n",
      " dense_7 (Dense)             (None, 1)                 129       \n",
      "                                                                 \n",
      "=================================================================\n",
      "Total params: 22,383,937\n",
      "Trainable params: 2,359,553\n",
      "Non-trainable params: 20,024,384\n",
      "_________________________________________________________________\n"
     ]
    }
   ],
   "source": [
    "model.summary()"
   ]
  },
  {
   "cell_type": "code",
   "execution_count": 12,
   "metadata": {},
   "outputs": [
    {
     "name": "stdout",
     "output_type": "stream",
     "text": [
      "Found 2328 images belonging to 2 classes.\n",
      "Found 581 images belonging to 2 classes.\n"
     ]
    }
   ],
   "source": [
    "datagen = ImageDataGenerator(rescale=1./255, width_shift_range=0.1, height_shift_range=0.1, horizontal_flip=True)\n",
    "train_iterator = datagen.flow_from_directory('D:/EPITA/Computer Vision/Project_1/data/train/', class_mode='binary', batch_size=64, target_size=(200, 200))\n",
    "test_iterator = datagen.flow_from_directory('D:/EPITA/Computer Vision/Project_1/data/test/', class_mode='binary', batch_size=64, target_size=(200, 200))"
   ]
  },
  {
   "cell_type": "code",
   "execution_count": 50,
   "metadata": {},
   "outputs": [
    {
     "name": "stdout",
     "output_type": "stream",
     "text": [
      "Found 1920 images belonging to 2 classes.\n",
      "Found 581 images belonging to 2 classes.\n",
      "Epoch 1/10\n",
      "30/30 [==============================] - 347s 12s/step - loss: 0.6276 - accuracy: 0.6328 - val_loss: 0.5620 - val_accuracy: 0.6936\n",
      "Epoch 2/10\n",
      "30/30 [==============================] - 333s 11s/step - loss: 0.4896 - accuracy: 0.7625 - val_loss: 0.4909 - val_accuracy: 0.7642\n",
      "Epoch 3/10\n",
      "30/30 [==============================] - 367s 12s/step - loss: 0.4366 - accuracy: 0.7870 - val_loss: 0.4551 - val_accuracy: 0.7866\n",
      "Epoch 4/10\n",
      "30/30 [==============================] - 407s 14s/step - loss: 0.3870 - accuracy: 0.8307 - val_loss: 0.4173 - val_accuracy: 0.8279\n",
      "Epoch 5/10\n",
      "30/30 [==============================] - 398s 13s/step - loss: 0.3580 - accuracy: 0.8505 - val_loss: 0.4537 - val_accuracy: 0.7866\n",
      "Epoch 6/10\n",
      "30/30 [==============================] - 386s 13s/step - loss: 0.3361 - accuracy: 0.8651 - val_loss: 0.4230 - val_accuracy: 0.8210\n",
      "Epoch 7/10\n",
      "30/30 [==============================] - 380s 13s/step - loss: 0.3457 - accuracy: 0.8448 - val_loss: 0.4163 - val_accuracy: 0.8279\n",
      "Epoch 8/10\n",
      "30/30 [==============================] - 400s 13s/step - loss: 0.3206 - accuracy: 0.8536 - val_loss: 0.3842 - val_accuracy: 0.8262\n",
      "Epoch 9/10\n",
      "30/30 [==============================] - 222s 7s/step - loss: 0.3073 - accuracy: 0.8667 - val_loss: 0.3802 - val_accuracy: 0.8348\n",
      "Epoch 10/10\n",
      "30/30 [==============================] - 188s 6s/step - loss: 0.3026 - accuracy: 0.8719 - val_loss: 0.4561 - val_accuracy: 0.7676\n"
     ]
    }
   ],
   "source": [
    "history_1 = model.fit_generator(train_iterator, steps_per_epoch=len(train_iterator), validation_data=test_iterator, validation_steps=len(test_iterator), epochs=10, verbose=1)"
   ]
  },
  {
   "cell_type": "code",
   "execution_count": 51,
   "metadata": {},
   "outputs": [],
   "source": [
    "# Saving the model\n",
    "model.save('D:/EPITA/Computer Vision/Project_1/models/version_2_model.h5')"
   ]
  },
  {
   "cell_type": "code",
   "execution_count": 63,
   "metadata": {},
   "outputs": [
    {
     "data": {
      "image/png": "[encoded data removed]",
      "text/plain": [
       "<Figure size 640x480 with 1 Axes>"
      ]
     },
     "metadata": {},
     "output_type": "display_data"
    },
    {
     "data": {
      "image/png": "[encoded data removed]",
      "text/plain": [
       "<Figure size 640x480 with 1 Axes>"
      ]
     },
     "metadata": {},
     "output_type": "display_data"
    }
   ],
   "source": [
    "# Plotting the learning curves\n",
    "\n",
    "pyplot.title('Cross Entropy Loss')\n",
    "pyplot.plot(history_1.history['loss'], color='blue', label='train')\n",
    "pyplot.plot(history_1.history['val_loss'], color='orange', label='test')\n",
    "pyplot.legend()\n",
    "pyplot.show()\n",
    "\n",
    "pyplot.title('Classification Accuracy')\n",
    "pyplot.plot(history_1.history['accuracy'], color='blue', label='train')\n",
    "pyplot.plot(history_1.history['val_accuracy'], color='orange', label='test')\n",
    "pyplot.legend()\n",
    "pyplot.show()"
   ]
  },
  {
   "attachments": {},
   "cell_type": "markdown",
   "metadata": {},
   "source": [
    "From the above results we can use using transfer learning we can get a better accuracy of 0.87 and val_accuracy of 0.76. So, we can conclude that transfer learning is a better approach to have a better accuracy."
   ]
  },
  {
   "attachments": {},
   "cell_type": "markdown",
   "metadata": {},
   "source": [
    "# Pretrained Model - TF Hub - ResNet50"
   ]
  },
  {
   "cell_type": "code",
   "execution_count": 13,
   "metadata": {},
   "outputs": [],
   "source": [
    "# Import resnet50 weights\n",
    "from tensorflow.keras.applications.resnet50 import ResNet50\n",
    "from tensorflow.keras.preprocessing import image\n",
    "from tensorflow.keras.applications.resnet50 import preprocess_input, decode_predictions\n",
    "from tqdm import tqdm\n",
    "import numpy as np"
   ]
  },
  {
   "cell_type": "code",
   "execution_count": 14,
   "metadata": {},
   "outputs": [],
   "source": [
    "# Importing the ResNet50 model\n",
    "model = ResNet50(weights = 'imagenet')"
   ]
  },
  {
   "cell_type": "code",
   "execution_count": 15,
   "metadata": {},
   "outputs": [],
   "source": [
    "def path_to_tensor(img_path):\n",
    "    # loads RGB image as PIL.Image.Image type\n",
    "    img = image.load_img(img_path, target_size=(224, 224))\n",
    "    # convert PIL.Image.Image type to 3D tensor with shape (224, 224, 3)\n",
    "    x = image.img_to_array(img)\n",
    "    # convert 3D tensor to 4D tensor with shape (1, 224, 224, 3) and return 4D tensor\n",
    "    return np.expand_dims(x, axis=0)\n",
    "\n",
    "def paths_to_tensor(img_paths):\n",
    "    list_of_tensors = [path_to_tensor(img_path) for img_path in tqdm(img_paths)]\n",
    "    return np.vstack(list_of_tensors)\n",
    "\n",
    "def ResNet50_predict_labels(img_path):\n",
    "    # returns prediction vector for image located at img_path\n",
    "    img = preprocess_input(path_to_tensor(img_path))\n",
    "    return np.argmax(model.predict(img))\n",
    "\n",
    "def dog_detector(img_path):\n",
    "    prediction = ResNet50_predict_labels(img_path)\n",
    "    return ((prediction <= 268) & (prediction >= 151))"
   ]
  },
  {
   "cell_type": "code",
   "execution_count": 19,
   "metadata": {},
   "outputs": [
    {
     "name": "stdout",
     "output_type": "stream",
     "text": [
      "1/1 [==============================] - 0s 306ms/step\n",
      "Dog is present in the image\n"
     ]
    }
   ],
   "source": [
    "# Test the dog_detector function\n",
    "if (dog_detector(\"D:/EPITA/Computer Vision/Project_1/data/test/dog/0ac8510707245b9f.jpg\")) == True:\n",
    "    print(\"Dog is present in the image\")\n",
    "else:\n",
    "    print(\"Dog is not present in the image\")"
   ]
  },
  {
   "cell_type": "code",
   "execution_count": 18,
   "metadata": {},
   "outputs": [
    {
     "name": "stdout",
     "output_type": "stream",
     "text": [
      "1/1 [==============================] - 0s 292ms/step\n",
      "Dog is not present in the image\n"
     ]
    }
   ],
   "source": [
    "# Test the dog_detector function\n",
    "if (dog_detector(\"D:/EPITA/Computer Vision/Project_1/data/test/not_dog/0a389d85258b5e0a.jpg\")) == True:\n",
    "    print(\"Dog is present in the image\")\n",
    "else:\n",
    "    print(\"Dog is not present in the image\")"
   ]
  },
  {
   "attachments": {},
   "cell_type": "markdown",
   "metadata": {},
   "source": [
    "# Conclusion"
   ]
  },
  {
   "attachments": {},
   "cell_type": "markdown",
   "metadata": {},
   "source": [
    "We have used three modelling techniques to classify the images as Dog or Not Dog. We have used the following techniques\n",
    "* Baseline Model\n",
    "* Transfer Learning\n",
    "* Pretrained Model - TF Hub - ResNet50\n",
    "\n",
    "From the above results we can see that the best accuracy is obtained from the pretrained model. So, we can conclude that the pretrained model is the best model to classify the images as Dog or Not Dog.\n",
    "\n",
    "But this is due to the fact that the dataset is small. So, if we have a large dataset then we can imporve the accuracy of the baseline model and transfer learning model."
   ]
  },
  {
   "cell_type": "markdown",
   "metadata": {},
   "source": []
  }
 ],
 "metadata": {
  "kernelspec": {
   "display_name": "Python 3.10.8 64-bit",
   "language": "python",
   "name": "python3"
  },
  "language_info": {
   "codemirror_mode": {
    "name": "ipython",
    "version": 3
   },
   "file_extension": ".py",
   "mimetype": "text/x-python",
   "name": "python",
   "nbconvert_exporter": "python",
   "pygments_lexer": "ipython3",
   "version": "3.10.8"
  },
  "orig_nbformat": 4,
  "vscode": {
   "interpreter": {
    "hash": "66f7e79fea8e8fd5a5188cf1932b28c9f36338f193f6d39b27cf266f2be62259"
   }
  }
 },
 "nbformat": 4,
 "nbformat_minor": 2
}
